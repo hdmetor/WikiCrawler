{
 "metadata": {
  "name": "",
  "signature": "sha256:f54c292b287d1ba25e7d73828068f814cbeaf3ad7b143c60f49bb0fce8408166"
 },
 "nbformat": 3,
 "nbformat_minor": 0,
 "worksheets": [
  {
   "cells": [
    {
     "cell_type": "markdown",
     "metadata": {},
     "source": [
      "# Import the data"
     ]
    },
    {
     "cell_type": "code",
     "collapsed": false,
     "input": [
      "import matplotlib.pyplot as plt\n",
      "import networkx as nx\n",
      "import os\n",
      "import json\n",
      "import GraphHelpers as gh\n",
      "import imp\n",
      "import math\n",
      "import numpy as np\n",
      "import string\n",
      "from __future__ import division\n",
      "from __future__ import unicode_literals\n",
      "with open(os.path.join('data','cleaned.json'), 'rt') as fp:\n",
      "    cleaned = json.load(fp)\n",
      "with open(os.path.join('data','number_to_page.json'), 'rt') as fp:\n",
      "    labels_dic = json.load(fp)\n",
      "len(cleaned)"
     ],
     "language": "python",
     "metadata": {},
     "outputs": [
      {
       "metadata": {},
       "output_type": "pyout",
       "prompt_number": 45,
       "text": [
        "77432"
       ]
      }
     ],
     "prompt_number": 45
    },
    {
     "cell_type": "markdown",
     "metadata": {},
     "source": [
      "## Select only a subgraph"
     ]
    },
    {
     "cell_type": "code",
     "collapsed": false,
     "input": [
      "master = '383'\n",
      "master_name = labels_dic[master]\n",
      "depth = 5\n",
      "max_links = 20\n",
      "#383 = Donald_Duck"
     ],
     "language": "python",
     "metadata": {},
     "outputs": [],
     "prompt_number": 59
    },
    {
     "cell_type": "code",
     "collapsed": false,
     "input": [
      "# Let's plot only a subgraph \n",
      "reduced = gh.reduce_graph(cleaned, master, depth, max_links= max_links)"
     ],
     "language": "python",
     "metadata": {},
     "outputs": [],
     "prompt_number": 60
    },
    {
     "cell_type": "code",
     "collapsed": false,
     "input": [
      "# convert to a nx Graph\n",
      "G = nx.DiGraph()\n",
      "#edges: (start, stop, {weight: n})\n",
      "G.add_edges_from([(start, stop.node, {'weigth' : stop.weight }) for start in reduced for stop in reduced[start].sons])"
     ],
     "language": "python",
     "metadata": {},
     "outputs": [],
     "prompt_number": 61
    },
    {
     "cell_type": "markdown",
     "metadata": {},
     "source": [
      "### Graph utils"
     ]
    },
    {
     "cell_type": "code",
     "collapsed": false,
     "input": [
      "def resize_alpha(size, p1, p2, max):\n",
      "    \"\"\"\n",
      "    given size and max s.t. \\'size\\' <= \\'max\\', returns a different size depending on the relative position of size  w.r.t \\'p1\\' and \\'p2\\'\n",
      "    \"\"\"\n",
      "    if size <= p1:\n",
      "        return math.pow(size/max, 4)\n",
      "    elif p1 <= size <= p2:\n",
      "        return size / max\n",
      "    else:\n",
      "        return math.pow(size/max, 1/4)"
     ],
     "language": "python",
     "metadata": {},
     "outputs": [],
     "prompt_number": 62
    },
    {
     "cell_type": "code",
     "collapsed": false,
     "input": [
      "def resize(size, p1, p2):    \n",
      "    \"\"\"\n",
      "    given \\'size\\' returns a different size depending on the relative position of size w.r.t \\'p1\\' and \\'p2\\'\n",
      "    \"\"\"\n",
      "    if size <= p1:\n",
      "        return .4 * size\n",
      "    elif p1 <= size <= p2:\n",
      "        return .6 * size\n",
      "    else:\n",
      "        return 1.2* size"
     ],
     "language": "python",
     "metadata": {},
     "outputs": [],
     "prompt_number": 63
    },
    {
     "cell_type": "code",
     "collapsed": false,
     "input": [
      "weights = [reduced[node].weight for node in reduced]\n",
      "vmax = max(weights)\n",
      "\n",
      "p1 = np.percentile(weights, 90)\n",
      "p2 = np.percentile(weights, 95)"
     ],
     "language": "python",
     "metadata": {},
     "outputs": []
    },
    {
     "cell_type": "code",
     "collapsed": false,
     "input": [
      "def labelQ(size, vmax):\n",
      "    return True if size/vmax >= .8 else False\n",
      "\n",
      "plt.figure(figsize=(20,20))\n",
      "pos=nx.graphviz_layout(G,prog=\"twopi\",root=master)\n",
      "\n",
      "labels = {}\n",
      "for n in G.nodes_iter(data=False):\n",
      "    size = resize(reduced[n].weight, p1, p2)\n",
      "    if n == master or labelQ(size, vmax):\n",
      "        labels[n] = string.replace(labels_dic[n],\"_\",\" \")\n",
      "    nx.draw_networkx_nodes(G, pos,\n",
      "                           nodelist = [n],\n",
      "                           node_size =  1* size,\n",
      "                           node_color = size,\n",
      "                           vmin = 1,\n",
      "                           vmax = vmax,\n",
      "                           alpha = size / vmax if n != master else 1)\n",
      "    \n",
      "wmax = max  ([e[2]['weigth'] for e in G.edges_iter(data=True)])\n",
      "\n",
      "for e in G.edges_iter(data=True):\n",
      "    weight = e[2]['weigth']\n",
      "    nx.draw_networkx_edges(G,pos,edgelist=[e],\n",
      "                           alpha = 0.1,#resize_alpha(weight, p1, p2, wmax),\n",
      "                           arrows = False\n",
      "                           )   \n",
      "nx.draw_networkx_labels(G,pos,labels,font_size=16)\n",
      "xmax=1.1*max(xx for xx,yy in pos.values())\n",
      "ymax=1.1*max(yy for xx,yy in pos.values())\n",
      "plt.xlim(0,xmax)\n",
      "plt.ylim(0,ymax)\n",
      "plt.savefig(os.path.join(\"graphs\",\"_\".join([master_name, str(depth), str(max_links)]) + \".jpg\"))\n",
      "plt.show()"
     ],
     "language": "python",
     "metadata": {},
     "outputs": []
    }
   ],
   "metadata": {}
  }
 ]
}