{
 "metadata": {
  "name": "",
  "signature": "sha256:b8bb6ad4ce96353cbc51f27c602e25356a7246c2e5df920ed6273e3c6e2d7c6f"
 },
 "nbformat": 3,
 "nbformat_minor": 0,
 "worksheets": [
  {
   "cells": [
    {
     "cell_type": "markdown",
     "metadata": {},
     "source": [
      "# Import the data"
     ]
    },
    {
     "cell_type": "code",
     "collapsed": false,
     "input": [
      "import matplotlib.pyplot as plt\n",
      "import networkx as nx\n",
      "import os\n",
      "import json\n",
      "import GraphHelpers as gh\n",
      "import imp\n",
      "import math\n",
      "import numpy as np\n",
      "import string\n",
      "from __future__ import division\n",
      "from __future__ import unicode_literals\n",
      "with open(os.path.join('data','cleaned.json'), 'rt') as fp:\n",
      "    cleaned = json.load(fp)\n",
      "with open(os.path.join('data','number_to_page.json'), 'rt') as fp:\n",
      "    labels_dic = json.load(fp)\n",
      "len(cleaned)"
     ],
     "language": "python",
     "metadata": {},
     "outputs": [
      {
       "metadata": {},
       "output_type": "pyout",
       "prompt_number": 1,
       "text": [
        "77432"
       ]
      }
     ],
     "prompt_number": 1
    },
    {
     "cell_type": "markdown",
     "metadata": {},
     "source": [
      "## Select only a subgraph"
     ]
    },
    {
     "cell_type": "code",
     "collapsed": false,
     "input": [
      "master = '383'\n",
      "master_name = labels_dic[master]\n",
      "depth = 3\n",
      "max_links = 20\n",
      "#383 = Donald_Duck"
     ],
     "language": "python",
     "metadata": {},
     "outputs": [],
     "prompt_number": 14
    },
    {
     "cell_type": "code",
     "collapsed": false,
     "input": [
      "# Let's plot only a subgraph \n",
      "reduced = gh.reduce_graph(cleaned, master, depth, max_links= max_links)"
     ],
     "language": "python",
     "metadata": {},
     "outputs": [],
     "prompt_number": 15
    },
    {
     "cell_type": "code",
     "collapsed": false,
     "input": [
      "# convert to a nx Graph\n",
      "G = nx.DiGraph()\n",
      "#edges: (start, stop, {weight: n})\n",
      "G.add_edges_from([(start, stop.node, {'weigth' : stop.weight }) for start in dd_reduced for stop in reduced[start].sons])"
     ],
     "language": "python",
     "metadata": {},
     "outputs": [],
     "prompt_number": 16
    },
    {
     "cell_type": "markdown",
     "metadata": {},
     "source": [
      "### Graph utils"
     ]
    },
    {
     "cell_type": "code",
     "collapsed": false,
     "input": [
      "\n",
      "def resize_alpha(size, p1, p2, max):\n",
      "    \"\"\"\n",
      "    given size and max s.t. \\'size\\' <= \\'max\\', returns a different size depending on the relative position of size  w.r.t \\'p1\\' and \\'p2\\'\n",
      "    \"\"\"\n",
      "    if size <= p1:\n",
      "        return math.pow(size/max, 4)\n",
      "    elif p1 <= size <= p2:\n",
      "        return size / max\n",
      "    else:\n",
      "        return math.pow(size/max, 1/4)"
     ],
     "language": "python",
     "metadata": {},
     "outputs": [],
     "prompt_number": 17
    },
    {
     "cell_type": "code",
     "collapsed": false,
     "input": [
      "def resize(size, p1, p2):    \n",
      "    \"\"\"\n",
      "    given \\'size\\' returns a different size depending on the relative position of size w.r.t \\'p1\\' and \\'p2\\'\n",
      "    \"\"\"\n",
      "    if size <= p1:\n",
      "        return .4 * size\n",
      "    elif p1 <= size <= p2:\n",
      "        return .6 * size\n",
      "    else:\n",
      "        return 1.2* size"
     ],
     "language": "python",
     "metadata": {},
     "outputs": [],
     "prompt_number": 18
    },
    {
     "cell_type": "code",
     "collapsed": false,
     "input": [
      "weights = [reduced[node].weight for node in reduced]\n",
      "vmax = max(weights)\n",
      "\n",
      "p1 = np.percentile(weights, 90)\n",
      "p2 = np.percentile(weights, 95)"
     ],
     "language": "python",
     "metadata": {},
     "outputs": [],
     "prompt_number": 19
    },
    {
     "cell_type": "code",
     "collapsed": false,
     "input": [
      "def labelQ(size, vmax):\n",
      "    return True if size/vmax >= .8 else False\n",
      "\n",
      "plt.figure(figsize=(20,20))\n",
      "pos=nx.graphviz_layout(DD,prog=\"twopi\",root=master)\n",
      "\n",
      "labels = {}\n",
      "for n in DD.nodes_iter(data=False):\n",
      "    size = resize(dd_reduced[n].weight, p1, p2)\n",
      "    if n == master or labelQ(size, vmax):\n",
      "        labels[n] = string.replace(labels_dic[n],\"_\",\" \")\n",
      "    nx.draw_networkx_nodes(DD, pos,\n",
      "                           nodelist = [n],\n",
      "                           node_size =  1* size,\n",
      "                           node_color = size,\n",
      "                           vmin = 1,\n",
      "                           vmax = vmax,\n",
      "                           alpha = size / vmax if n != master else 1)\n",
      "    \n",
      "wmax = max  ([e[2]['weigth'] for e in DD.edges_iter(data=True)])\n",
      "\n",
      "for e in DD.edges_iter(data=True):\n",
      "    weight = e[2]['weigth']\n",
      "    nx.draw_networkx_edges(DD,pos,edgelist=[e],\n",
      "                           alpha = resize_alpha(weight, p1, p2, wmax),\n",
      "                           arrows = False\n",
      "                           )   \n",
      "nx.draw_networkx_labels(DD,pos,labels,font_size=16)\n",
      "xmax=1.1*max(xx for xx,yy in pos.values())\n",
      "ymax=1.1*max(yy for xx,yy in pos.values())\n",
      "plt.xlim(0,xmax)\n",
      "plt.ylim(0,ymax)\n",
      "plt.savefig(os.path.join(\"graphs\",\"_\".join([master_name, str(depth), str(max_links)]) + \".jpg\"))\n",
      "plt.show()"
     ],
     "language": "python",
     "metadata": {},
     "outputs": [],
     "prompt_number": 25
    },
    {
     "cell_type": "code",
     "collapsed": false,
     "input": [],
     "language": "python",
     "metadata": {},
     "outputs": []
    }
   ],
   "metadata": {}
  }
 ]
}