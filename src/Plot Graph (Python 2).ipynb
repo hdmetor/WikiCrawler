{
 "metadata": {
  "name": "",
  "signature": "sha256:14843371ebafe6e3c952c160364b5959f21b56f3ffca4c646acafb3efc04a987"
 },
 "nbformat": 3,
 "nbformat_minor": 0,
 "worksheets": [
  {
   "cells": [
    {
     "cell_type": "markdown",
     "metadata": {},
     "source": [
      "# Import the data"
     ]
    },
    {
     "cell_type": "code",
     "collapsed": false,
     "input": [
      "import matplotlib.pyplot as plt\n",
      "import networkx as nx\n",
      "import os\n",
      "import json\n",
      "import GraphFunctions as gh\n",
      "import imp\n",
      "import math\n",
      "import numpy as np\n",
      "import string\n",
      "from __future__ import division\n",
      "from __future__ import unicode_literals\n",
      "data_folder = os.path.join('..','data')\n",
      "with open(os.path.join(data_folder,'cleaned.json'), 'rt') as fp:\n",
      "    cleaned = json.load(fp)\n",
      "with open(os.path.join(data_folder,'number_to_page.json'), 'rt') as fp:\n",
      "    labels_dic = json.load(fp)\n",
      "len(cleaned) == 77432"
     ],
     "language": "python",
     "metadata": {},
     "outputs": [
      {
       "metadata": {},
       "output_type": "pyout",
       "prompt_number": 1,
       "text": [
        "True"
       ]
      }
     ],
     "prompt_number": 1
    },
    {
     "cell_type": "markdown",
     "metadata": {},
     "source": [
      "## Select only a subgraph"
     ]
    },
    {
     "cell_type": "code",
     "collapsed": false,
     "input": [
      "master = '68714'\n",
      "master_name = labels_dic[master]\n",
      "depth = 5\n",
      "max_links = 8\n",
      "# 68714 = Python_(programming_language)\n",
      "# 383 = Donald_Duck\n",
      "# 10543 = X-man\n",
      "# 342 = Elizabeth_II"
     ],
     "language": "python",
     "metadata": {},
     "outputs": [],
     "prompt_number": 3
    },
    {
     "cell_type": "code",
     "collapsed": false,
     "input": [
      "# Let's plot only a subgraph \n",
      "reduced = gh.reduce_graph(cleaned, master, depth, max_links= max_links)"
     ],
     "language": "python",
     "metadata": {},
     "outputs": [],
     "prompt_number": 4
    },
    {
     "cell_type": "code",
     "collapsed": false,
     "input": [
      "# convert to a nx Graph\n",
      "G = nx.DiGraph()\n",
      "#edges: (start, stop, {weight: n})\n",
      "G.add_edges_from([(start, stop.key, {'weigth' : stop.weight }) for start in reduced for stop in reduced[start].sons])"
     ],
     "language": "python",
     "metadata": {},
     "outputs": [],
     "prompt_number": 5
    },
    {
     "cell_type": "markdown",
     "metadata": {},
     "source": [
      "### Graph utils"
     ]
    },
    {
     "cell_type": "code",
     "collapsed": false,
     "input": [
      "def resize_alpha(size, p1, p2, max):\n",
      "    \"\"\"\n",
      "    given size and max s.t. \\'size\\' <= \\'max\\', returns a different size depending on the relative position of size  w.r.t \\'p1\\' and \\'p2\\'\n",
      "    \"\"\"\n",
      "    if size <= p1:\n",
      "        return math.pow(size/max, 4)\n",
      "    elif p1 <= size <= p2:\n",
      "        return size / max\n",
      "    else:\n",
      "        return math.pow(size/max, 1/4)"
     ],
     "language": "python",
     "metadata": {},
     "outputs": [],
     "prompt_number": 6
    },
    {
     "cell_type": "code",
     "collapsed": false,
     "input": [
      "def resize(size, p1, p2):    \n",
      "    \"\"\"\n",
      "    given \\'size\\' returns a different size depending on the relative position of size w.r.t \\'p1\\' and \\'p2\\'\n",
      "    \"\"\"\n",
      "    if size <= p1:\n",
      "        return .2 * size\n",
      "    elif p1 <= size <= p2:\n",
      "        return .4 * size\n",
      "    else:\n",
      "        return 1.2* size"
     ],
     "language": "python",
     "metadata": {},
     "outputs": [],
     "prompt_number": 7
    },
    {
     "cell_type": "code",
     "collapsed": false,
     "input": [
      "weights = [reduced[node].weight for node in reduced]\n",
      "vmax = max(weights)\n",
      "\n",
      "p1 = np.percentile(weights, 90)\n",
      "p2 = np.percentile(weights, 95)\n",
      "pn = np.percentile(weights, 99)"
     ],
     "language": "python",
     "metadata": {},
     "outputs": [],
     "prompt_number": 8
    },
    {
     "cell_type": "code",
     "collapsed": false,
     "input": [
      "sorted_list = sorted(weights)"
     ],
     "language": "python",
     "metadata": {},
     "outputs": [],
     "prompt_number": 9
    },
    {
     "cell_type": "code",
     "collapsed": false,
     "input": [
      "def labelQ(size, vmax):\n",
      "    return True if size in sorted_list[-100:] else False"
     ],
     "language": "python",
     "metadata": {},
     "outputs": [],
     "prompt_number": 10
    },
    {
     "cell_type": "code",
     "collapsed": false,
     "input": [
      "fig = plt.figure(figsize=(20,20))\n",
      "pos=nx.graphviz_layout(G,prog=\"twopi\",root=master)\n",
      "\n",
      "labels = {}\n",
      "for n in G.nodes_iter(data=False):\n",
      "    size = resize(reduced[n].weight, p2, pn)\n",
      "    if n == master or labelQ(reduced[n].weight, vmax):\n",
      "        labels[n] = string.replace(labels_dic[n],\"_\",\" \")\n",
      "    nx.draw_networkx_nodes(G, \n",
      "                           pos,\n",
      "                           nodelist = [n],\n",
      "                           node_size =  1* size,\n",
      "                           node_color = size,\n",
      "                           vmin = 1,\n",
      "                           vmax = vmax,\n",
      "                           alpha = size / vmax if n != master else 1)\n",
      "    \n",
      "wmax = max  ([e[2]['weigth'] for e in G.edges_iter(data=True)])\n",
      "\n",
      "for e in G.edges_iter(data=True):\n",
      "    weight = e[2]['weigth']\n",
      "    nx.draw_networkx_edges(G,pos,edgelist=[e],\n",
      "                           alpha = 0.01,#resize_alpha(weight, p1, p2, wmax),\n",
      "                           arrows = False\n",
      "                           )   \n",
      "nx.draw_networkx_labels(G,pos,labels,font_size=16)\n",
      "xmax=1.1*max(xx for xx,yy in pos.values())\n",
      "ymax=1.1*max(yy for xx,yy in pos.values())\n",
      "plt.xlim(0,xmax)\n",
      "plt.ylim(0,ymax)\n",
      "plt.title(\"Wikipedia connection graph\")\n",
      "#plt.savefig(os.path.join(\"graphs\",\"_\".join([master_name, str(depth), str(max_links)]) + \".jpg\"))\n",
      "plt.show()"
     ],
     "language": "python",
     "metadata": {},
     "outputs": [],
     "prompt_number": 11
    },
    {
     "cell_type": "markdown",
     "metadata": {},
     "source": [
      "# Plotting SSC\n"
     ]
    },
    {
     "cell_type": "code",
     "collapsed": false,
     "input": [
      "imp.reload(gh)\n",
      "reduced_dic = {}\n",
      "for key in reduced:\n",
      "    #print(reduced[key].sons)\n",
      "    sons = reduced[key].sons\n",
      "    if sons:\n",
      "        reduced_dic[key] = [link.key for link in reduced[key].sons]\n",
      "    else:\n",
      "        reduced_dic[key] = []\n",
      "reduced_dic\n"
     ],
     "language": "python",
     "metadata": {},
     "outputs": []
    }
   ],
   "metadata": {}
  }
 ]
}